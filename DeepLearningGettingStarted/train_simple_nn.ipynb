{
 "cells": [
  {
   "cell_type": "code",
   "execution_count": 1,
   "metadata": {},
   "outputs": [],
   "source": [
    "# set the matplotlib backend so figures can be saved in the background\n",
    "import matplotlib\n",
    "matplotlib.use('Agg')\n",
    "\n",
    "# import the necessary packages\n",
    "from sklearn.preprocessing import LabelBinarizer\n",
    "from sklearn.model_selection import train_test_split\n",
    "from sklearn.metrics import classification_report\n",
    "from tensorflow.keras.models import Sequential\n",
    "from tensorflow.keras.layers import Dense\n",
    "from tensorflow.keras.optimizers import SGD\n",
    "from imutils import paths\n",
    "import matplotlib.pyplot as plt\n",
    "import numpy as np\n",
    "import argparse\n",
    "import random\n",
    "import pickle\n",
    "import cv2\n",
    "import os"
   ]
  },
  {
   "cell_type": "code",
   "execution_count": 2,
   "metadata": {},
   "outputs": [],
   "source": [
    "# ArgParser Things\n",
    "dataset = \"animals\"\n",
    "plot = \"output/train_val.png\"\n",
    "modelPath = \"output/train_simple_nn.model\"\n",
    "label_bin = \"output/train_simple_nn_lb.pickle\""
   ]
  },
  {
   "cell_type": "markdown",
   "metadata": {},
   "source": [
    "# Loading the dataset\n",
    "<img src=\"https://pyimagesearch.com/wp-content/uploads/2018/09/keras_tutorial_step2.png\">"
   ]
  },
  {
   "cell_type": "code",
   "execution_count": 3,
   "metadata": {},
   "outputs": [
    {
     "name": "stdout",
     "output_type": "stream",
     "text": [
      "[INFO] loading images...\n"
     ]
    }
   ],
   "source": [
    "# initialize the data and labels\n",
    "print(\"[INFO] loading images...\")\n",
    "data = []\n",
    "labels = []\n",
    "# grab the image paths and randomly shuffle them\n",
    "imagePaths = sorted(list(paths.list_images(dataset)))\n",
    "random.seed(42)\n",
    "random.shuffle(imagePaths)\n",
    "# loop over the input images\n",
    "for imagePath in imagePaths:\n",
    "\t# load the image, resize the image to be 32x32 pixels (ignoring\n",
    "\t# aspect ratio), flatten the image into 32x32x3=3072 pixel image\n",
    "\t# into a list, and store the image in the data list\n",
    "\timage = cv2.imread(imagePath)\n",
    "\timage = cv2.resize(image, (32, 32)).flatten()\n",
    "\tdata.append(image)\n",
    "\t# extract the class label from the image path and update the\n",
    "\t# labels list\n",
    "\tlabel = imagePath.split(os.path.sep)[-2]\n",
    "\tlabels.append(label)"
   ]
  },
  {
   "cell_type": "code",
   "execution_count": 4,
   "metadata": {},
   "outputs": [],
   "source": [
    "data = np.array(data, dtype=\"float\") / 255.0\n",
    "labels = np.array(labels)"
   ]
  },
  {
   "cell_type": "markdown",
   "metadata": {},
   "source": [
    "# Construct your training and testing splits\n",
    "<img src=\"https://pyimagesearch.com/wp-content/uploads/2018/09/keras_tutorial_step3.png\">"
   ]
  },
  {
   "cell_type": "code",
   "execution_count": 5,
   "metadata": {},
   "outputs": [],
   "source": [
    "# partition the data into training and testing splits using 75% of\n",
    "# the data for training and the remaining 25% for testing\n",
    "trainX, testX, trainY, testY = train_test_split(data, labels, test_size=0.25, random_state=42)\n",
    "lb = LabelBinarizer()\n",
    "trainY = lb.fit_transform(trainY)\n",
    "testY = lb.transform(testY)"
   ]
  },
  {
   "cell_type": "markdown",
   "metadata": {},
   "source": [
    "# Define your Keras model architecture\n",
    "<img src=\"https://www.pyimagesearch.com/wp-content/uploads/2018/09/keras_tutorial_simplenn_arch.png\">"
   ]
  },
  {
   "cell_type": "code",
   "execution_count": 6,
   "metadata": {},
   "outputs": [],
   "source": [
    "# define the 3072-1024-512-3 architecture using Keras\n",
    "model = Sequential()\n",
    "model.add(Dense(1024, input_shape=(3072,), activation=\"sigmoid\"))\n",
    "model.add(Dense(512, activation=\"sigmoid\"))\n",
    "model.add(Dense(len(lb.classes_), activation=\"softmax\"))"
   ]
  },
  {
   "cell_type": "markdown",
   "metadata": {},
   "source": [
    "# Compile your Keras model\n",
    "<img src=\"https://www.pyimagesearch.com/wp-content/uploads/2018/09/keras_tutorial_step5.png\">"
   ]
  },
  {
   "cell_type": "code",
   "execution_count": 7,
   "metadata": {},
   "outputs": [
    {
     "name": "stdout",
     "output_type": "stream",
     "text": [
      "[INFO] training network...\n"
     ]
    }
   ],
   "source": [
    "# initialize our initial learning rate and # of epochs to train for\n",
    "INIT_LR = 0.01\n",
    "EPOCHS = 80\n",
    "\n",
    "# compile the model using SGD as our optimizer and categorical\n",
    "# cross-entropy loss (you'll want to use binary_crossentropy\n",
    "# for 2-class classification)\n",
    "print(\"[INFO] training network...\")\n",
    "opt = SGD(lr=INIT_LR)\n",
    "model.compile(loss=\"categorical_crossentropy\", optimizer=opt, metrics=[\"accuracy\"])"
   ]
  },
  {
   "cell_type": "markdown",
   "metadata": {},
   "source": [
    "# Fit your Keras model to the data\n",
    "<img src=\"https://www.pyimagesearch.com/wp-content/uploads/2018/09/keras_tutorial_step6.png\">"
   ]
  },
  {
   "cell_type": "code",
   "execution_count": 8,
   "metadata": {},
   "outputs": [
    {
     "name": "stdout",
     "output_type": "stream",
     "text": [
      "Train on 2250 samples, validate on 750 samples\n",
      "Epoch 1/80\n",
      "2250/2250 [==============================] - 2s 977us/sample - loss: 1.1010 - accuracy: 0.3640 - val_loss: 1.0948 - val_accuracy: 0.3147\n",
      "Epoch 2/80\n",
      "2250/2250 [==============================] - 2s 762us/sample - loss: 1.0774 - accuracy: 0.4156 - val_loss: 1.0714 - val_accuracy: 0.3573\n",
      "Epoch 3/80\n",
      "2250/2250 [==============================] - 2s 764us/sample - loss: 1.0615 - accuracy: 0.4369 - val_loss: 1.0564 - val_accuracy: 0.3920\n",
      "Epoch 4/80\n",
      "2250/2250 [==============================] - 2s 804us/sample - loss: 1.0474 - accuracy: 0.4529 - val_loss: 1.0311 - val_accuracy: 0.5040\n",
      "Epoch 5/80\n",
      "2250/2250 [==============================] - 2s 741us/sample - loss: 1.0259 - accuracy: 0.4764 - val_loss: 1.0406 - val_accuracy: 0.4827\n",
      "Epoch 6/80\n",
      "2250/2250 [==============================] - 2s 677us/sample - loss: 1.0203 - accuracy: 0.4831 - val_loss: 1.0387 - val_accuracy: 0.4200\n",
      "Epoch 7/80\n",
      "2250/2250 [==============================] - 1s 666us/sample - loss: 0.9991 - accuracy: 0.4991 - val_loss: 1.0490 - val_accuracy: 0.3853\n",
      "Epoch 8/80\n",
      "2250/2250 [==============================] - 2s 668us/sample - loss: 0.9904 - accuracy: 0.4951 - val_loss: 0.9646 - val_accuracy: 0.5413\n",
      "Epoch 9/80\n",
      "2250/2250 [==============================] - 2s 706us/sample - loss: 0.9690 - accuracy: 0.5151 - val_loss: 0.9523 - val_accuracy: 0.5240\n",
      "Epoch 10/80\n",
      "2250/2250 [==============================] - 2s 733us/sample - loss: 0.9640 - accuracy: 0.5044 - val_loss: 0.9454 - val_accuracy: 0.5693\n",
      "Epoch 11/80\n",
      "2250/2250 [==============================] - 2s 812us/sample - loss: 0.9511 - accuracy: 0.5138 - val_loss: 0.9226 - val_accuracy: 0.5653\n",
      "Epoch 12/80\n",
      "2250/2250 [==============================] - 2s 726us/sample - loss: 0.9359 - accuracy: 0.5227 - val_loss: 0.9230 - val_accuracy: 0.5467\n",
      "Epoch 13/80\n",
      "2250/2250 [==============================] - 2s 670us/sample - loss: 0.9244 - accuracy: 0.5324 - val_loss: 0.9218 - val_accuracy: 0.5280\n",
      "Epoch 14/80\n",
      "2250/2250 [==============================] - 2s 824us/sample - loss: 0.9172 - accuracy: 0.5369 - val_loss: 0.9217 - val_accuracy: 0.5707\n",
      "Epoch 15/80\n",
      "2250/2250 [==============================] - 2s 832us/sample - loss: 0.9062 - accuracy: 0.5400 - val_loss: 0.9743 - val_accuracy: 0.4787\n",
      "Epoch 16/80\n",
      "2250/2250 [==============================] - 2s 671us/sample - loss: 0.9025 - accuracy: 0.5218 - val_loss: 0.8990 - val_accuracy: 0.5280\n",
      "Epoch 17/80\n",
      "2250/2250 [==============================] - 1s 627us/sample - loss: 0.8892 - accuracy: 0.5436 - val_loss: 0.9231 - val_accuracy: 0.5213\n",
      "Epoch 18/80\n",
      "2250/2250 [==============================] - 1s 622us/sample - loss: 0.8895 - accuracy: 0.5280 - val_loss: 0.8905 - val_accuracy: 0.5307\n",
      "Epoch 19/80\n",
      "2250/2250 [==============================] - 2s 714us/sample - loss: 0.8833 - accuracy: 0.5364 - val_loss: 0.9535 - val_accuracy: 0.5213\n",
      "Epoch 20/80\n",
      "2250/2250 [==============================] - 2s 668us/sample - loss: 0.8757 - accuracy: 0.5427 - val_loss: 0.8745 - val_accuracy: 0.5627\n",
      "Epoch 21/80\n",
      "2250/2250 [==============================] - 1s 653us/sample - loss: 0.8715 - accuracy: 0.5613 - val_loss: 0.8660 - val_accuracy: 0.5613\n",
      "Epoch 22/80\n",
      "2250/2250 [==============================] - 1s 651us/sample - loss: 0.8703 - accuracy: 0.5409 - val_loss: 0.8570 - val_accuracy: 0.5667\n",
      "Epoch 23/80\n",
      "2250/2250 [==============================] - 1s 648us/sample - loss: 0.8639 - accuracy: 0.5564 - val_loss: 0.8930 - val_accuracy: 0.5400\n",
      "Epoch 24/80\n",
      "2250/2250 [==============================] - 2s 676us/sample - loss: 0.8584 - accuracy: 0.5582 - val_loss: 0.8526 - val_accuracy: 0.5667\n",
      "Epoch 25/80\n",
      "2250/2250 [==============================] - 1s 617us/sample - loss: 0.8570 - accuracy: 0.5538 - val_loss: 0.8607 - val_accuracy: 0.5453\n",
      "Epoch 26/80\n",
      "2250/2250 [==============================] - 1s 647us/sample - loss: 0.8556 - accuracy: 0.5587 - val_loss: 0.8593 - val_accuracy: 0.5787\n",
      "Epoch 27/80\n",
      "2250/2250 [==============================] - 1s 630us/sample - loss: 0.8547 - accuracy: 0.5418 - val_loss: 0.8517 - val_accuracy: 0.5613\n",
      "Epoch 28/80\n",
      "2250/2250 [==============================] - 1s 659us/sample - loss: 0.8483 - accuracy: 0.5787 - val_loss: 0.8683 - val_accuracy: 0.5507\n",
      "Epoch 29/80\n",
      "2250/2250 [==============================] - 2s 670us/sample - loss: 0.8442 - accuracy: 0.5711 - val_loss: 0.8482 - val_accuracy: 0.5960\n",
      "Epoch 30/80\n",
      "2250/2250 [==============================] - 2s 667us/sample - loss: 0.8453 - accuracy: 0.5636 - val_loss: 0.8427 - val_accuracy: 0.5667\n",
      "Epoch 31/80\n",
      "2250/2250 [==============================] - 2s 698us/sample - loss: 0.8383 - accuracy: 0.5693 - val_loss: 0.8374 - val_accuracy: 0.5973\n",
      "Epoch 32/80\n",
      "2250/2250 [==============================] - 2s 690us/sample - loss: 0.8364 - accuracy: 0.5658 - val_loss: 0.8842 - val_accuracy: 0.5360\n",
      "Epoch 33/80\n",
      "2250/2250 [==============================] - 2s 667us/sample - loss: 0.8345 - accuracy: 0.5778 - val_loss: 0.8501 - val_accuracy: 0.5960\n",
      "Epoch 34/80\n",
      "2250/2250 [==============================] - 2s 738us/sample - loss: 0.8329 - accuracy: 0.5622 - val_loss: 0.8347 - val_accuracy: 0.5827\n",
      "Epoch 35/80\n",
      "2250/2250 [==============================] - 2s 697us/sample - loss: 0.8322 - accuracy: 0.5756 - val_loss: 0.8282 - val_accuracy: 0.6027\n",
      "Epoch 36/80\n",
      "2250/2250 [==============================] - 2s 711us/sample - loss: 0.8280 - accuracy: 0.5711 - val_loss: 0.8375 - val_accuracy: 0.5880\n",
      "Epoch 37/80\n",
      "2250/2250 [==============================] - 1s 610us/sample - loss: 0.8294 - accuracy: 0.5689 - val_loss: 0.8879 - val_accuracy: 0.5587\n",
      "Epoch 38/80\n",
      "2250/2250 [==============================] - 1s 636us/sample - loss: 0.8245 - accuracy: 0.5800 - val_loss: 0.8354 - val_accuracy: 0.5760\n",
      "Epoch 39/80\n",
      "2250/2250 [==============================] - 2s 667us/sample - loss: 0.8270 - accuracy: 0.5729 - val_loss: 0.9117 - val_accuracy: 0.5120\n",
      "Epoch 40/80\n",
      "2250/2250 [==============================] - 2s 681us/sample - loss: 0.8244 - accuracy: 0.5773 - val_loss: 0.8546 - val_accuracy: 0.5427\n",
      "Epoch 41/80\n",
      "2250/2250 [==============================] - 2s 752us/sample - loss: 0.8211 - accuracy: 0.5733 - val_loss: 0.8558 - val_accuracy: 0.5440\n",
      "Epoch 42/80\n",
      "2250/2250 [==============================] - 2s 743us/sample - loss: 0.8216 - accuracy: 0.5738 - val_loss: 0.8635 - val_accuracy: 0.5573\n",
      "Epoch 43/80\n",
      "2250/2250 [==============================] - 2s 703us/sample - loss: 0.8185 - accuracy: 0.5742 - val_loss: 0.8445 - val_accuracy: 0.5667\n",
      "Epoch 44/80\n",
      "2250/2250 [==============================] - 2s 675us/sample - loss: 0.8145 - accuracy: 0.5782 - val_loss: 0.8362 - val_accuracy: 0.5787\n",
      "Epoch 45/80\n",
      "2250/2250 [==============================] - 1s 660us/sample - loss: 0.8150 - accuracy: 0.5769 - val_loss: 0.8843 - val_accuracy: 0.5733\n",
      "Epoch 46/80\n",
      "2250/2250 [==============================] - 1s 644us/sample - loss: 0.8147 - accuracy: 0.5756 - val_loss: 0.8468 - val_accuracy: 0.5493\n",
      "Epoch 47/80\n",
      "2250/2250 [==============================] - 1s 615us/sample - loss: 0.8117 - accuracy: 0.5782 - val_loss: 0.8313 - val_accuracy: 0.5933\n",
      "Epoch 48/80\n",
      "2250/2250 [==============================] - 2s 673us/sample - loss: 0.8151 - accuracy: 0.5840 - val_loss: 0.8925 - val_accuracy: 0.5853\n",
      "Epoch 49/80\n",
      "2250/2250 [==============================] - 1s 642us/sample - loss: 0.8132 - accuracy: 0.5849 - val_loss: 0.9018 - val_accuracy: 0.5307\n",
      "Epoch 50/80\n",
      "2250/2250 [==============================] - 1s 636us/sample - loss: 0.8080 - accuracy: 0.5809 - val_loss: 0.8197 - val_accuracy: 0.6067\n",
      "Epoch 51/80\n",
      "2250/2250 [==============================] - 2s 704us/sample - loss: 0.8086 - accuracy: 0.5813 - val_loss: 0.8496 - val_accuracy: 0.5547\n",
      "Epoch 52/80\n",
      "2250/2250 [==============================] - 2s 715us/sample - loss: 0.8031 - accuracy: 0.5902 - val_loss: 0.8344 - val_accuracy: 0.5760\n",
      "Epoch 53/80\n",
      "2250/2250 [==============================] - 2s 697us/sample - loss: 0.8026 - accuracy: 0.5796 - val_loss: 0.8523 - val_accuracy: 0.5533\n",
      "Epoch 54/80\n",
      "2250/2250 [==============================] - 2s 797us/sample - loss: 0.8016 - accuracy: 0.5867 - val_loss: 0.8607 - val_accuracy: 0.5413\n",
      "Epoch 55/80\n",
      "2250/2250 [==============================] - 2s 782us/sample - loss: 0.7987 - accuracy: 0.5973 - val_loss: 0.8376 - val_accuracy: 0.5907\n"
     ]
    },
    {
     "name": "stdout",
     "output_type": "stream",
     "text": [
      "Epoch 56/80\n",
      "2250/2250 [==============================] - 2s 815us/sample - loss: 0.8021 - accuracy: 0.5800 - val_loss: 0.8579 - val_accuracy: 0.5693\n",
      "Epoch 57/80\n",
      "2250/2250 [==============================] - 2s 841us/sample - loss: 0.7924 - accuracy: 0.5964 - val_loss: 0.8463 - val_accuracy: 0.5987\n",
      "Epoch 58/80\n",
      "2250/2250 [==============================] - 2s 887us/sample - loss: 0.8014 - accuracy: 0.5876 - val_loss: 0.8285 - val_accuracy: 0.5707\n",
      "Epoch 59/80\n",
      "2250/2250 [==============================] - 2s 997us/sample - loss: 0.7972 - accuracy: 0.5911 - val_loss: 0.8340 - val_accuracy: 0.5640\n",
      "Epoch 60/80\n",
      "2250/2250 [==============================] - 2s 979us/sample - loss: 0.7951 - accuracy: 0.5942 - val_loss: 0.8204 - val_accuracy: 0.5947\n",
      "Epoch 61/80\n",
      "2250/2250 [==============================] - 2s 673us/sample - loss: 0.7908 - accuracy: 0.5964 - val_loss: 0.8397 - val_accuracy: 0.5707\n",
      "Epoch 62/80\n",
      "2250/2250 [==============================] - 2s 764us/sample - loss: 0.7931 - accuracy: 0.5991 - val_loss: 0.8424 - val_accuracy: 0.5773\n",
      "Epoch 63/80\n",
      "2250/2250 [==============================] - 2s 714us/sample - loss: 0.7912 - accuracy: 0.5844 - val_loss: 0.8336 - val_accuracy: 0.6013\n",
      "Epoch 64/80\n",
      "2250/2250 [==============================] - 2s 686us/sample - loss: 0.7862 - accuracy: 0.6102 - val_loss: 0.8184 - val_accuracy: 0.6053\n",
      "Epoch 65/80\n",
      "2250/2250 [==============================] - 1s 603us/sample - loss: 0.7842 - accuracy: 0.6080 - val_loss: 0.8164 - val_accuracy: 0.6160\n",
      "Epoch 66/80\n",
      "2250/2250 [==============================] - 1s 640us/sample - loss: 0.7827 - accuracy: 0.6084 - val_loss: 0.8204 - val_accuracy: 0.5973\n",
      "Epoch 67/80\n",
      "2250/2250 [==============================] - 2s 746us/sample - loss: 0.7868 - accuracy: 0.6071 - val_loss: 0.8869 - val_accuracy: 0.5453\n",
      "Epoch 68/80\n",
      "2250/2250 [==============================] - 2s 760us/sample - loss: 0.7778 - accuracy: 0.6031 - val_loss: 0.8221 - val_accuracy: 0.6053\n",
      "Epoch 69/80\n",
      "2250/2250 [==============================] - 2s 670us/sample - loss: 0.7826 - accuracy: 0.6036 - val_loss: 0.8226 - val_accuracy: 0.5987\n",
      "Epoch 70/80\n",
      "2250/2250 [==============================] - 2s 727us/sample - loss: 0.7775 - accuracy: 0.6111 - val_loss: 0.8319 - val_accuracy: 0.6107\n",
      "Epoch 71/80\n",
      "2250/2250 [==============================] - 1s 646us/sample - loss: 0.7808 - accuracy: 0.6062 - val_loss: 0.8133 - val_accuracy: 0.6187\n",
      "Epoch 72/80\n",
      "2250/2250 [==============================] - 2s 688us/sample - loss: 0.7752 - accuracy: 0.6169 - val_loss: 0.8472 - val_accuracy: 0.5973\n",
      "Epoch 73/80\n",
      "2250/2250 [==============================] - 2s 717us/sample - loss: 0.7763 - accuracy: 0.6093 - val_loss: 0.8264 - val_accuracy: 0.5920\n",
      "Epoch 74/80\n",
      "2250/2250 [==============================] - 2s 775us/sample - loss: 0.7754 - accuracy: 0.6164 - val_loss: 0.8757 - val_accuracy: 0.5293\n",
      "Epoch 75/80\n",
      "2250/2250 [==============================] - 2s 867us/sample - loss: 0.7745 - accuracy: 0.6120 - val_loss: 0.8545 - val_accuracy: 0.5507\n",
      "Epoch 76/80\n",
      "2250/2250 [==============================] - 2s 682us/sample - loss: 0.7683 - accuracy: 0.6178 - val_loss: 0.8218 - val_accuracy: 0.6133\n",
      "Epoch 77/80\n",
      "2250/2250 [==============================] - 2s 678us/sample - loss: 0.7694 - accuracy: 0.6089 - val_loss: 0.8147 - val_accuracy: 0.6160\n",
      "Epoch 78/80\n",
      "2250/2250 [==============================] - 1s 617us/sample - loss: 0.7713 - accuracy: 0.6160 - val_loss: 0.8590 - val_accuracy: 0.5747\n",
      "Epoch 79/80\n",
      "2250/2250 [==============================] - 2s 681us/sample - loss: 0.7682 - accuracy: 0.6209 - val_loss: 0.8417 - val_accuracy: 0.5907\n",
      "Epoch 80/80\n",
      "2250/2250 [==============================] - 2s 693us/sample - loss: 0.7647 - accuracy: 0.6164 - val_loss: 0.8192 - val_accuracy: 0.6173\n"
     ]
    }
   ],
   "source": [
    "# train the nueral network\n",
    "H = model.fit(x=trainX, y=trainY, validation_data=(testX, testY), epochs=EPOCHS, batch_size=32)"
   ]
  },
  {
   "cell_type": "markdown",
   "metadata": {},
   "source": [
    "# Evaluate your Keras model\n",
    "<img src=\"https://www.pyimagesearch.com/wp-content/uploads/2018/09/keras_tutorial_step7.png\">"
   ]
  },
  {
   "cell_type": "code",
   "execution_count": 9,
   "metadata": {},
   "outputs": [
    {
     "name": "stdout",
     "output_type": "stream",
     "text": [
      "[INFO] evaluating network...\n",
      "              precision    recall  f1-score   support\n",
      "\n",
      "        cats       0.56      0.64      0.60       236\n",
      "        dogs       0.50      0.41      0.45       236\n",
      "       panda       0.75      0.77      0.76       278\n",
      "\n",
      "    accuracy                           0.62       750\n",
      "   macro avg       0.60      0.61      0.60       750\n",
      "weighted avg       0.61      0.62      0.61       750\n",
      "\n"
     ]
    }
   ],
   "source": [
    "# evaluate the network\n",
    "print(\"[INFO] evaluating network...\")\n",
    "predictions = model.predict(x=testX, batch_size=32)\n",
    "print(classification_report(testY.argmax(axis=1), predictions.argmax(axis=1), target_names=lb.classes_))\n",
    "# plot the training loss and accuracy\n",
    "N = np.arange(0, EPOCHS)\n",
    "plt.style.use(\"ggplot\")\n",
    "plt.figure()\n",
    "plt.plot(N, H.history[\"loss\"], label=\"train_loss\")\n",
    "plt.plot(N, H.history[\"val_loss\"], label=\"val_loss\")\n",
    "plt.plot(N, H.history[\"accuracy\"], label=\"train_acc\")\n",
    "plt.plot(N, H.history[\"val_accuracy\"], label=\"val_acc\")\n",
    "plt.title(\"Training Loss and Accuracy (Simple NN)\")\n",
    "plt.xlabel(\"Epoch #\")\n",
    "plt.ylabel(\"Loss/Accuracy\")\n",
    "plt.legend()\n",
    "plt.savefig(plot)"
   ]
  },
  {
   "cell_type": "code",
   "execution_count": 10,
   "metadata": {},
   "outputs": [
    {
     "name": "stdout",
     "output_type": "stream",
     "text": [
      "[INFO] serializing network and label binarizer...\n"
     ]
    }
   ],
   "source": [
    "# save the model and label binarizer to disk\n",
    "print(\"[INFO] serializing network and label binarizer...\")\n",
    "model.save(modelPath, save_format=\"h5\")\n",
    "f = open(label_bin, \"wb\")\n",
    "f.write(pickle.dumps(lb))\n",
    "f.close()"
   ]
  },
  {
   "cell_type": "code",
   "execution_count": null,
   "metadata": {},
   "outputs": [],
   "source": []
  }
 ],
 "metadata": {
  "kernelspec": {
   "display_name": "Python 3",
   "language": "python",
   "name": "python3"
  },
  "language_info": {
   "codemirror_mode": {
    "name": "ipython",
    "version": 3
   },
   "file_extension": ".py",
   "mimetype": "text/x-python",
   "name": "python",
   "nbconvert_exporter": "python",
   "pygments_lexer": "ipython3",
   "version": "3.6.8"
  },
  "pycharm": {
   "stem_cell": {
    "cell_type": "raw",
    "metadata": {
     "collapsed": false
    },
    "source": []
   }
  }
 },
 "nbformat": 4,
 "nbformat_minor": 2
}
